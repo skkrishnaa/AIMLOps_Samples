{
  "nbformat": 4,
  "nbformat_minor": 0,
  "metadata": {
    "colab": {
      "provenance": [],
      "authorship_tag": "ABX9TyMJ+NHaGZMedyZx77L89OvN",
      "include_colab_link": true
    },
    "kernelspec": {
      "name": "python3",
      "display_name": "Python 3"
    },
    "language_info": {
      "name": "python"
    }
  },
  "cells": [
    {
      "cell_type": "markdown",
      "metadata": {
        "id": "view-in-github",
        "colab_type": "text"
      },
      "source": [
        "<a href=\"https://colab.research.google.com/github/skkrishnaa/AIMLOps_Samples/blob/main/LaptopPricing.ipynb\" target=\"_parent\"><img src=\"https://colab.research.google.com/assets/colab-badge.svg\" alt=\"Open In Colab\"/></a>"
      ]
    },
    {
      "cell_type": "code",
      "execution_count": 1,
      "metadata": {
        "id": "dY6xlH0qwj3b"
      },
      "outputs": [],
      "source": [
        "import pandas as pd\n",
        "import numpy as np"
      ]
    },
    {
      "cell_type": "code",
      "source": [
        "file_name=\"laptops.csv\"\n",
        "df = pd.read_csv(file_name)\n",
        "print(df.head())"
      ],
      "metadata": {
        "colab": {
          "base_uri": "https://localhost:8080/"
        },
        "id": "OKXOhoaCyuRG",
        "outputId": "c7cc892e-ce83-4708-bbac-006f9580b69f"
      },
      "execution_count": 4,
      "outputs": [
        {
          "output_type": "stream",
          "name": "stdout",
          "text": [
            "   Acer  4  IPS Panel  2  1  5   35.56  1.6  8  256 1.6.1   978\n",
            "0  Dell  3    Full HD  1  1  3  39.624  2.0  4  256   2.2   634\n",
            "1  Dell  3    Full HD  1  1  7  39.624  2.7  8  256   2.2   946\n",
            "2  Dell  4  IPS Panel  2  1  5  33.782  1.6  8  128  1.22  1244\n",
            "3    HP  4    Full HD  2  1  7  39.624  1.8  8  256  1.91   837\n",
            "4  Dell  3    Full HD  1  1  5  39.624  1.6  8  256   2.2  1016\n"
          ]
        }
      ]
    },
    {
      "cell_type": "markdown",
      "source": [
        "Add Headers to the DataFrame"
      ],
      "metadata": {
        "id": "msdQbNtdz4_-"
      }
    },
    {
      "cell_type": "code",
      "source": [
        "# create headers list\n",
        "headers = [\"Manufacturer\", \"Category\", \"Screen\", \"GPU\", \"OS\", \"CPU_core\", \"Screen_Size_inch\", \"CPU_frequency\", \"RAM_GB\", \"Storage_GB_SSD\", \"Weight_kg\", \"Price\"]\n",
        "df.columns = headers\n",
        "print(df.head(20))"
      ],
      "metadata": {
        "colab": {
          "base_uri": "https://localhost:8080/"
        },
        "id": "r7-JkkXTz8LY",
        "outputId": "cd3006a8-67d2-4049-a7bc-ed6666a27871"
      },
      "execution_count": 6,
      "outputs": [
        {
          "output_type": "stream",
          "name": "stdout",
          "text": [
            "   Manufacturer  Category     Screen  GPU  OS  CPU_core Screen_Size_inch  \\\n",
            "0          Dell         3    Full HD    1   1         3           39.624   \n",
            "1          Dell         3    Full HD    1   1         7           39.624   \n",
            "2          Dell         4  IPS Panel    2   1         5           33.782   \n",
            "3            HP         4    Full HD    2   1         7           39.624   \n",
            "4          Dell         3    Full HD    1   1         5           39.624   \n",
            "5            HP         3    Full HD    3   1         5           39.624   \n",
            "6          Acer         3  IPS Panel    2   1         5             38.1   \n",
            "7          Dell         3    Full HD    1   1         5           39.624   \n",
            "8          Acer         3  IPS Panel    3   1         7             38.1   \n",
            "9          Dell         3    Full HD    1   1         7           39.624   \n",
            "10           HP         3    Full HD    2   1         3           39.624   \n",
            "11         Asus         3    Full HD    2   2         3           39.624   \n",
            "12         Dell         4    Full HD    2   1         5            35.56   \n",
            "13         Asus         3    Full HD    2   1         5            35.56   \n",
            "14           HP         3    Full HD    2   1         5           39.624   \n",
            "15         Dell         4  IPS Panel    1   1         7            33.02   \n",
            "16         Dell         3    Full HD    1   1         7           39.624   \n",
            "17         Dell         4  IPS Panel    2   1         5             38.1   \n",
            "18           HP         3    Full HD    2   1         5            35.56   \n",
            "19           HP         4  IPS Panel    3   1         7             38.1   \n",
            "\n",
            "    CPU_frequency  RAM_GB  Storage_GB_SSD Weight_kg  Price  \n",
            "0             2.0       4             256       2.2    634  \n",
            "1             2.7       8             256       2.2    946  \n",
            "2             1.6       8             128      1.22   1244  \n",
            "3             1.8       8             256      1.91    837  \n",
            "4             1.6       8             256       2.2   1016  \n",
            "5             1.6       8             256       2.1   1117  \n",
            "6             1.6       4             256       2.2    866  \n",
            "7             2.5       4             256       2.3    812  \n",
            "8             1.8       8             256       2.2   1068  \n",
            "9             1.8       8             256      2.13    975  \n",
            "10            2.0       4             128      1.91    558  \n",
            "11            2.0       4             256         2    527  \n",
            "12            1.6       8             256       1.7   1117  \n",
            "13            1.6       8             256       1.4   1195  \n",
            "14            2.5       8             256      1.86    876  \n",
            "15            1.8       8             256       1.4   1213  \n",
            "16            1.8       8             256       2.2   1105  \n",
            "17            1.6       8             256      1.88   1392  \n",
            "18            1.6       8             256      1.63   1092  \n",
            "19            1.8       8             256      1.83    888  \n"
          ]
        }
      ]
    },
    {
      "cell_type": "markdown",
      "source": [
        "Task #3:\n",
        "Replace '?' with 'NaN'\n",
        "Replace the '?' entries in the dataset with NaN value, recevied from the Numpy package."
      ],
      "metadata": {
        "id": "2wHg1U4P0WSs"
      }
    },
    {
      "cell_type": "code",
      "source": [
        "df.replace('?',np.nan, inplace = True)"
      ],
      "metadata": {
        "id": "86hR4XaD0Xll"
      },
      "execution_count": 7,
      "outputs": []
    },
    {
      "cell_type": "markdown",
      "source": [
        "Task #4:\n",
        "Print the data types of the dataframe columns\n",
        "Make a note of the data types of the different columns of the dataset."
      ],
      "metadata": {
        "id": "YSf9lv950ssm"
      }
    },
    {
      "cell_type": "code",
      "source": [
        "print(df.dtypes)"
      ],
      "metadata": {
        "colab": {
          "base_uri": "https://localhost:8080/"
        },
        "id": "0K-pXbe90tff",
        "outputId": "5e6f4553-1362-4377-b12d-6a6900f994c3"
      },
      "execution_count": 8,
      "outputs": [
        {
          "output_type": "stream",
          "name": "stdout",
          "text": [
            "Manufacturer         object\n",
            "Category              int64\n",
            "Screen               object\n",
            "GPU                   int64\n",
            "OS                    int64\n",
            "CPU_core              int64\n",
            "Screen_Size_inch     object\n",
            "CPU_frequency       float64\n",
            "RAM_GB                int64\n",
            "Storage_GB_SSD        int64\n",
            "Weight_kg            object\n",
            "Price                 int64\n",
            "dtype: object\n"
          ]
        }
      ]
    },
    {
      "cell_type": "markdown",
      "source": [
        "Task #5:\n",
        "Print the statistical description of the dataset, including that of 'object' data types"
      ],
      "metadata": {
        "id": "kPxTrdyp09Kd"
      }
    },
    {
      "cell_type": "code",
      "source": [
        "print(df.describe(include='all'))"
      ],
      "metadata": {
        "colab": {
          "base_uri": "https://localhost:8080/"
        },
        "id": "kF4RreFb1CeO",
        "outputId": "e2968329-c7c3-48ed-d3bf-08c4fcb81e5e"
      },
      "execution_count": 9,
      "outputs": [
        {
          "output_type": "stream",
          "name": "stdout",
          "text": [
            "       Manufacturer    Category   Screen         GPU          OS    CPU_core  \\\n",
            "count           237  237.000000      237  237.000000  237.000000  237.000000   \n",
            "unique           11         NaN        2         NaN         NaN         NaN   \n",
            "top            Dell         NaN  Full HD         NaN         NaN         NaN   \n",
            "freq             71         NaN      161         NaN         NaN         NaN   \n",
            "mean            NaN    3.202532      NaN    2.151899    1.059072    5.632911   \n",
            "std             NaN    0.776450      NaN    0.639556    0.236258    1.243736   \n",
            "min             NaN    1.000000      NaN    1.000000    1.000000    3.000000   \n",
            "25%             NaN    3.000000      NaN    2.000000    1.000000    5.000000   \n",
            "50%             NaN    3.000000      NaN    2.000000    1.000000    5.000000   \n",
            "75%             NaN    4.000000      NaN    3.000000    1.000000    7.000000   \n",
            "max             NaN    5.000000      NaN    3.000000    2.000000    7.000000   \n",
            "\n",
            "       Screen_Size_inch  CPU_frequency      RAM_GB  Storage_GB_SSD Weight_kg  \\\n",
            "count               233     237.000000  237.000000      237.000000       232   \n",
            "unique                9            NaN         NaN             NaN        77   \n",
            "top              39.624            NaN         NaN             NaN       2.2   \n",
            "freq                 89            NaN         NaN             NaN        21   \n",
            "mean                NaN       2.363291    7.881857      245.738397       NaN   \n",
            "std                 NaN       0.409271    2.487845       34.832516       NaN   \n",
            "min                 NaN       1.200000    4.000000      128.000000       NaN   \n",
            "25%                 NaN       2.000000    8.000000      256.000000       NaN   \n",
            "50%                 NaN       2.500000    8.000000      256.000000       NaN   \n",
            "75%                 NaN       2.700000    8.000000      256.000000       NaN   \n",
            "max                 NaN       2.900000   16.000000      256.000000       NaN   \n",
            "\n",
            "              Price  \n",
            "count    237.000000  \n",
            "unique          NaN  \n",
            "top             NaN  \n",
            "freq            NaN  \n",
            "mean    1464.388186  \n",
            "std      574.956374  \n",
            "min      527.000000  \n",
            "25%     1068.000000  \n",
            "50%     1333.000000  \n",
            "75%     1777.000000  \n",
            "max     3810.000000  \n"
          ]
        }
      ]
    },
    {
      "cell_type": "markdown",
      "source": [
        "Task #6:\n",
        "Print the summary information of the dataset"
      ],
      "metadata": {
        "id": "js3_0Vbf1TW_"
      }
    },
    {
      "cell_type": "code",
      "source": [
        "print(df.info())"
      ],
      "metadata": {
        "colab": {
          "base_uri": "https://localhost:8080/"
        },
        "id": "QS9Qn6Ct1Wk0",
        "outputId": "378c9e30-d66d-4608-97fe-7743a2ac3d96"
      },
      "execution_count": 10,
      "outputs": [
        {
          "output_type": "stream",
          "name": "stdout",
          "text": [
            "<class 'pandas.core.frame.DataFrame'>\n",
            "RangeIndex: 237 entries, 0 to 236\n",
            "Data columns (total 12 columns):\n",
            " #   Column            Non-Null Count  Dtype  \n",
            "---  ------            --------------  -----  \n",
            " 0   Manufacturer      237 non-null    object \n",
            " 1   Category          237 non-null    int64  \n",
            " 2   Screen            237 non-null    object \n",
            " 3   GPU               237 non-null    int64  \n",
            " 4   OS                237 non-null    int64  \n",
            " 5   CPU_core          237 non-null    int64  \n",
            " 6   Screen_Size_inch  233 non-null    object \n",
            " 7   CPU_frequency     237 non-null    float64\n",
            " 8   RAM_GB            237 non-null    int64  \n",
            " 9   Storage_GB_SSD    237 non-null    int64  \n",
            " 10  Weight_kg         232 non-null    object \n",
            " 11  Price             237 non-null    int64  \n",
            "dtypes: float64(1), int64(7), object(4)\n",
            "memory usage: 22.3+ KB\n",
            "None\n"
          ]
        }
      ]
    }
  ]
}