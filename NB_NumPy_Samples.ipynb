{
  "nbformat": 4,
  "nbformat_minor": 0,
  "metadata": {
    "colab": {
      "provenance": [],
      "authorship_tag": "ABX9TyOzbT28gYGXqVxAMVBgxHFD",
      "include_colab_link": true
    },
    "kernelspec": {
      "name": "python3",
      "display_name": "Python 3"
    },
    "language_info": {
      "name": "python"
    }
  },
  "cells": [
    {
      "cell_type": "markdown",
      "metadata": {
        "id": "view-in-github",
        "colab_type": "text"
      },
      "source": [
        "<a href=\"https://colab.research.google.com/github/skkrishnaa/AIMLOps_Samples/blob/main/NB_NumPy_Samples.ipynb\" target=\"_parent\"><img src=\"https://colab.research.google.com/assets/colab-badge.svg\" alt=\"Open In Colab\"/></a>"
      ]
    },
    {
      "cell_type": "code",
      "execution_count": 12,
      "metadata": {
        "colab": {
          "base_uri": "https://localhost:8080/"
        },
        "id": "4vmW3KGs3Sa0",
        "outputId": "e3e9056a-d9cf-41dc-88c3-59c8547bd3b2"
      },
      "outputs": [
        {
          "output_type": "stream",
          "name": "stdout",
          "text": [
            "1.25.2\n",
            "<function show at 0x79cc5a5b4940>\n",
            "[0. 0. 0. 0. 0. 0. 0. 0. 0. 0.]\n",
            "(10,)\n",
            "[1. 1. 1. 1. 1. 1. 1. 1. 1. 1. 1. 1. 1. 1. 1. 1. 1. 1. 1. 1.]\n",
            "[10 11 12 13 14 15 16 17 18 19 20 21 22 23 24 25 26 27 28 29 30 31 32 33\n",
            " 34 35 36 37 38 39 40 41 42 43 44 45 46 47 48]\n",
            "[48 47 46 45 44 43 42 41 40 39 38 37 36 35 34 33 32 31 30 29 28 27 26 25\n",
            " 24 23 22 21 20 19 18 17 16 15 14 13 12 11 10]\n",
            "(array([0, 1, 4]),)\n",
            "[array([1, 2, 4])]\n",
            "[[1. 0. 0.]\n",
            " [0. 1. 0.]\n",
            " [0. 0. 1.]]\n"
          ]
        }
      ],
      "source": [
        "import numpy as np\n",
        "print(np.__version__)\n",
        "print(np.show_config)\n",
        "arr = np.zeros(10)\n",
        "print(arr)\n",
        "print(arr.shape)\n",
        "arr = np.ones(20)\n",
        "print(arr)\n",
        "x=list(range(10,49))\n",
        "x = np.arange(10,49)\n",
        "print(x)\n",
        "print(x[::-1])\n",
        "arr=np.array([1,2,0,0,4,0])\n",
        "print(np.nonzero(arr))\n",
        "print([arr[i] for i in np.nonzero(arr)])\n",
        "x=np.eye(3)\n",
        "print(x)"
      ]
    }
  ]
}